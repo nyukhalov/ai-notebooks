{
 "cells": [
  {
   "cell_type": "code",
   "execution_count": 12,
   "metadata": {},
   "outputs": [],
   "source": [
    "import torch\n",
    "from torch.utils import data"
   ]
  },
  {
   "cell_type": "code",
   "execution_count": 13,
   "metadata": {},
   "outputs": [],
   "source": [
    "class CustomDataset(data.Dataset):\n",
    "    def __init__(self):\n",
    "        self._data = [1, 2, 3, 4, 5, 6, 7, 8]\n",
    "    \n",
    "    def __getitem__(self, idx):\n",
    "        el = self._data[idx]\n",
    "        return {\n",
    "            \"one\": torch.rand(1),\n",
    "            \"two\": torch.rand(2)\n",
    "        }\n",
    "\n",
    "    def __len__(self):\n",
    "        return len(self._data)"
   ]
  },
  {
   "cell_type": "code",
   "execution_count": 14,
   "metadata": {},
   "outputs": [],
   "source": [
    "dataset = CustomDataset()\n",
    "dataloader = data.DataLoader(dataset, batch_size=2)"
   ]
  },
  {
   "cell_type": "code",
   "execution_count": 17,
   "metadata": {},
   "outputs": [
    {
     "name": "stdout",
     "output_type": "stream",
     "text": [
      "one tensor([[0.4839],\n",
      "        [0.3887]])\n",
      "two tensor([[0.9805, 0.1015],\n",
      "        [0.7507, 0.9543]])\n",
      "one tensor([[0.6865],\n",
      "        [0.5607]])\n",
      "two tensor([[0.2847, 0.2687],\n",
      "        [0.8949, 0.1728]])\n",
      "one tensor([[0.8034],\n",
      "        [0.9995]])\n",
      "two tensor([[0.9750, 0.4601],\n",
      "        [0.5779, 0.7990]])\n",
      "one tensor([[0.8559],\n",
      "        [0.7097]])\n",
      "two tensor([[0.7796, 0.1315],\n",
      "        [0.3815, 0.9450]])\n"
     ]
    }
   ],
   "source": [
    "for batch in dataloader:\n",
    "    one_batch = batch[\"one\"]\n",
    "    two_batch = batch[\"two\"]\n",
    "    print('one', one_batch)\n",
    "    print('two', two_batch)"
   ]
  },
  {
   "cell_type": "code",
   "execution_count": null,
   "metadata": {},
   "outputs": [],
   "source": []
  }
 ],
 "metadata": {
  "kernelspec": {
   "display_name": "Python 3",
   "language": "python",
   "name": "python3"
  },
  "language_info": {
   "codemirror_mode": {
    "name": "ipython",
    "version": 3
   },
   "file_extension": ".py",
   "mimetype": "text/x-python",
   "name": "python",
   "nbconvert_exporter": "python",
   "pygments_lexer": "ipython3",
   "version": "3.7.7"
  }
 },
 "nbformat": 4,
 "nbformat_minor": 4
}
