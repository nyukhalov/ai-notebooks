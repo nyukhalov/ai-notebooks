{
 "cells": [
  {
   "cell_type": "code",
   "execution_count": 1,
   "metadata": {},
   "outputs": [],
   "source": [
    "import os\n",
    "import torch\n",
    "import torch.optim as optim\n",
    "import torch.nn as nn\n",
    "import torch.nn.functional as F\n",
    "import torchvision\n",
    "import torchvision.transforms as transforms\n",
    "from torchvision.datasets import CIFAR10\n",
    "import matplotlib.pyplot as plt\n",
    "import numpy as np"
   ]
  },
  {
   "cell_type": "code",
   "execution_count": 2,
   "metadata": {},
   "outputs": [],
   "source": [
    "project_name = 'cifar10'\n",
    "data_root = '/media/data'\n",
    "data_set_dir = os.path.join(data_root, 'sets', project_name)\n",
    "data_exp_dir = os.path.join(data_root, 'exp', project_name)"
   ]
  },
  {
   "cell_type": "code",
   "execution_count": 3,
   "metadata": {},
   "outputs": [
    {
     "name": "stdout",
     "output_type": "stream",
     "text": [
      "cuda:0\n"
     ]
    }
   ],
   "source": [
    "device = torch.device(\"cuda:0\" if torch.cuda.is_available() else \"cpu\")\n",
    "print(device)"
   ]
  },
  {
   "cell_type": "code",
   "execution_count": 4,
   "metadata": {},
   "outputs": [
    {
     "name": "stdout",
     "output_type": "stream",
     "text": [
      "Downloading https://www.cs.toronto.edu/~kriz/cifar-10-python.tar.gz to /media/data/sets/cifar10/cifar-10-python.tar.gz\n",
      "Files already downloaded and verified\n"
     ]
    }
   ],
   "source": [
    "transform = transforms.Compose([\n",
    "    transforms.ToTensor(),\n",
    "    transforms.Normalize((0.5, 0.5, 0.5), (0.5, 0.5, 0.5))\n",
    "])\n",
    "\n",
    "def dataset(train: bool):\n",
    "    return CIFAR10(root=data_set_dir, train=train, download=True, transform=transform)\n",
    "\n",
    "def dataloader(train: bool):\n",
    "    ds = dataset(train)\n",
    "    # don't shuffle the train set\n",
    "    return torch.utils.data.DataLoader(ds, batch_size=4, shuffle=train, num_workers=2)\n",
    "\n",
    "trainloader = dataloader(train=True)\n",
    "testloader = dataloader(train=False)\n",
    "\n",
    "classes = ('plane', 'car', 'bird', 'cat', 'deer', 'dog', 'frog', 'horse', 'ship', 'truck')"
   ]
  },
  {
   "cell_type": "code",
   "execution_count": 5,
   "metadata": {},
   "outputs": [
    {
     "data": {
      "image/png": "[encoded data removed]",
      "text/plain": [
       "<Figure size 432x288 with 1 Axes>"
      ]
     },
     "metadata": {
      "needs_background": "light"
     },
     "output_type": "display_data"
    },
    {
     "name": "stdout",
     "output_type": "stream",
     "text": [
      "plane  bird  deer  deer\n"
     ]
    }
   ],
   "source": [
    "def imshow(img):\n",
    "    img = img / 2 + 0.5 # unnormalize\n",
    "    npimg = img.numpy()\n",
    "    plt.imshow(np.transpose(npimg, (1, 2, 0)))\n",
    "    plt.show()\n",
    "    \n",
    "dataiter = iter(trainloader)\n",
    "images, labels = dataiter.next()\n",
    "\n",
    "imshow(torchvision.utils.make_grid(images))\n",
    "print(' '.join('%5s' % classes[labels[j]] for j in range(4)))"
   ]
  },
  {
   "cell_type": "code",
   "execution_count": 6,
   "metadata": {},
   "outputs": [],
   "source": [
    "class Net(nn.Module):\n",
    "    def __init__(self):\n",
    "        super(Net, self).__init__()\n",
    "        self.conv1 = nn.Conv2d(3, 6, 5)\n",
    "        self.conv2 = nn.Conv2d(6, 16, 5)\n",
    "        self.fc1 = nn.Linear(16 * 5 * 5, 120)\n",
    "        self.fc2 = nn.Linear(120, 84)\n",
    "        self.fc3 = nn.Linear(84, 10)\n",
    "        \n",
    "    def forward(self, x):\n",
    "        # the input shape in (<batch size>, 3, 32, 32)\n",
    "        x = F.max_pool2d(F.relu(self.conv1(x)), 2)\n",
    "        x = F.max_pool2d(F.relu(self.conv2(x)), 2)\n",
    "        x = x.view(-1, self.num_flat_features(x))\n",
    "        x = F.relu(self.fc1(x))\n",
    "        x = F.relu(self.fc2(x))\n",
    "        x = self.fc3(x)\n",
    "        return x\n",
    "    \n",
    "    def num_flat_features(self, x):\n",
    "        size = x.size()[1:]\n",
    "        num_features = 1\n",
    "        for s in size:\n",
    "            num_features *= s\n",
    "        return num_features"
   ]
  },
  {
   "cell_type": "code",
   "execution_count": 11,
   "metadata": {},
   "outputs": [
    {
     "name": "stdout",
     "output_type": "stream",
     "text": [
      "[1,  2000] loss: 2.213\n",
      "[1,  4000] loss: 1.936\n",
      "[1,  6000] loss: 1.740\n",
      "[1,  8000] loss: 1.617\n",
      "[1, 10000] loss: 1.541\n",
      "[1, 12000] loss: 1.488\n",
      "[2,  2000] loss: 1.436\n",
      "[2,  4000] loss: 1.407\n",
      "[2,  6000] loss: 1.377\n",
      "[2,  8000] loss: 1.331\n",
      "[2, 10000] loss: 1.344\n",
      "[2, 12000] loss: 1.307\n",
      "[3,  2000] loss: 1.242\n",
      "[3,  4000] loss: 1.243\n",
      "[3,  6000] loss: 1.257\n",
      "[3,  8000] loss: 1.239\n",
      "[3, 10000] loss: 1.233\n",
      "[3, 12000] loss: 1.221\n",
      "[4,  2000] loss: 1.157\n",
      "[4,  4000] loss: 1.148\n",
      "[4,  6000] loss: 1.157\n",
      "[4,  8000] loss: 1.151\n",
      "[4, 10000] loss: 1.154\n",
      "[4, 12000] loss: 1.139\n",
      "[5,  2000] loss: 1.075\n",
      "[5,  4000] loss: 1.089\n",
      "[5,  6000] loss: 1.074\n",
      "[5,  8000] loss: 1.069\n",
      "[5, 10000] loss: 1.084\n",
      "[5, 12000] loss: 1.084\n",
      "[6,  2000] loss: 0.985\n",
      "[6,  4000] loss: 1.006\n",
      "[6,  6000] loss: 1.050\n",
      "[6,  8000] loss: 1.022\n",
      "[6, 10000] loss: 1.050\n",
      "[6, 12000] loss: 1.030\n",
      "[7,  2000] loss: 0.934\n",
      "[7,  4000] loss: 0.995\n",
      "[7,  6000] loss: 0.970\n",
      "[7,  8000] loss: 0.978\n",
      "[7, 10000] loss: 1.004\n",
      "[7, 12000] loss: 0.987\n",
      "[8,  2000] loss: 0.898\n",
      "[8,  4000] loss: 0.913\n",
      "[8,  6000] loss: 0.947\n",
      "[8,  8000] loss: 0.967\n",
      "[8, 10000] loss: 0.955\n",
      "[8, 12000] loss: 0.954\n",
      "[9,  2000] loss: 0.848\n",
      "[9,  4000] loss: 0.878\n",
      "[9,  6000] loss: 0.904\n",
      "[9,  8000] loss: 0.904\n",
      "[9, 10000] loss: 0.938\n",
      "[9, 12000] loss: 0.927\n",
      "[10,  2000] loss: 0.817\n",
      "[10,  4000] loss: 0.859\n",
      "[10,  6000] loss: 0.853\n",
      "[10,  8000] loss: 0.901\n",
      "[10, 10000] loss: 0.909\n",
      "[10, 12000] loss: 0.888\n",
      "Finished Training\n"
     ]
    }
   ],
   "source": [
    "num_epoch = 10\n",
    "lr = 0.001\n",
    "\n",
    "net = Net()\n",
    "net.to(device)\n",
    "\n",
    "criterion = nn.CrossEntropyLoss()\n",
    "optimizer = optim.SGD(net.parameters(), lr=lr, momentum=0.9)\n",
    "for epoch in range(num_epoch):\n",
    "    running_loss = 0.0\n",
    "    for batch_no, batch in enumerate(trainloader):\n",
    "        inputs = batch[0].to(device)\n",
    "        labels = batch[1].to(device)\n",
    "        \n",
    "        # clear gradiend buffers\n",
    "        optimizer.zero_grad()\n",
    "        \n",
    "        # forward pass\n",
    "        outputs = net(inputs)\n",
    "        \n",
    "        # backward pass\n",
    "        loss = criterion(outputs, labels)\n",
    "        loss.backward()\n",
    "        \n",
    "        # weights update\n",
    "        optimizer.step()\n",
    "        \n",
    "        running_loss += loss.item()\n",
    "        if batch_no % 2000 == 1999:    # print every 2000 mini-batches\n",
    "            print('[%d, %5d] loss: %.3f' %\n",
    "                  (epoch + 1, batch_no + 1, running_loss / 2000))\n",
    "            running_loss = 0.0\n",
    "            \n",
    "print('Finished Training')\n",
    "\n",
    "exp_path = os.path.join(data_exp_dir, 'cifar_net.pth')\n",
    "torch.save(net.state_dict(), exp_path)"
   ]
  },
  {
   "cell_type": "code",
   "execution_count": 12,
   "metadata": {},
   "outputs": [
    {
     "name": "stdout",
     "output_type": "stream",
     "text": [
      "Accuracy of the network on the 10000 test images: 60 %\n",
      "Accuracy of plane : 59 %\n",
      "Accuracy of   car : 69 %\n",
      "Accuracy of  bird : 49 %\n",
      "Accuracy of   cat : 45 %\n",
      "Accuracy of  deer : 47 %\n",
      "Accuracy of   dog : 56 %\n",
      "Accuracy of  frog : 72 %\n",
      "Accuracy of horse : 63 %\n",
      "Accuracy of  ship : 75 %\n",
      "Accuracy of truck : 71 %\n"
     ]
    }
   ],
   "source": [
    "# load the model (not necessary in this case)\n",
    "\n",
    "loaded_net = Net()\n",
    "loaded_net.to(device)\n",
    "loaded_net.load_state_dict(torch.load(exp_path))\n",
    "\n",
    "correct = 0\n",
    "total = 0\n",
    "class_correct = list(0. for i in range(10))\n",
    "class_total = list(0. for i in range(10))\n",
    "with torch.no_grad():\n",
    "    for data in testloader:\n",
    "        images = data[0].to(device)\n",
    "        labels = data[1].to(device)\n",
    "        \n",
    "        outputs = loaded_net(images)\n",
    "        \n",
    "        _, predicted = torch.max(outputs, 1)\n",
    "        total += labels.size(0)\n",
    "        correct += (predicted == labels).sum().item()\n",
    "        c = (predicted == labels).squeeze()\n",
    "        for i in range(4):\n",
    "            label = labels[i]\n",
    "            class_correct[label] += c[i].item()\n",
    "            class_total[label] += 1\n",
    "\n",
    "print('Accuracy of the network on the 10000 test images: %d %%' % (100 * correct / total))            \n",
    "for i in range(10):\n",
    "    print('Accuracy of %5s : %2d %%' % (\n",
    "        classes[i], 100 * class_correct[i] / class_total[i]))"
   ]
  },
  {
   "cell_type": "code",
   "execution_count": null,
   "metadata": {},
   "outputs": [],
   "source": []
  }
 ],
 "metadata": {
  "kernelspec": {
   "display_name": "Python 3",
   "language": "python",
   "name": "python3"
  },
  "language_info": {
   "codemirror_mode": {
    "name": "ipython",
    "version": 3
   },
   "file_extension": ".py",
   "mimetype": "text/x-python",
   "name": "python",
   "nbconvert_exporter": "python",
   "pygments_lexer": "ipython3",
   "version": "3.7.7"
  }
 },
 "nbformat": 4,
 "nbformat_minor": 4
}
